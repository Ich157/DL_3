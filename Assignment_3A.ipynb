{
 "cells": [
  {
   "cell_type": "markdown",
   "metadata": {},
   "source": [
    "# Part 1"
   ]
  },
  {
   "cell_type": "code",
   "execution_count": 25,
   "metadata": {},
   "outputs": [],
   "source": [
    "import numpy as np\n",
    "\n",
    "import torch\n",
    "import torch.nn.functional as F \n",
    "from torch import nn\n",
    "\n",
    "import matplotlib.pyplot as plt\n",
    "from matplotlib.ticker import MaxNLocator"
   ]
  },
  {
   "cell_type": "markdown",
   "metadata": {},
   "source": [
    "## Question 3"
   ]
  },
  {
   "cell_type": "code",
   "execution_count": 2,
   "metadata": {},
   "outputs": [
    {
     "data": {
      "text/plain": [
       "tensor([[[[ 1.,  2.,  3.],\n",
       "          [ 4.,  5.,  6.],\n",
       "          [ 7.,  8.,  9.]],\n",
       "\n",
       "         [[ 2.,  4.,  6.],\n",
       "          [ 8., 10., 12.],\n",
       "          [14., 16., 18.]]],\n",
       "\n",
       "\n",
       "        [[[ 4.,  8., 12.],\n",
       "          [16., 20., 24.],\n",
       "          [28., 32., 36.]],\n",
       "\n",
       "         [[ 8., 16., 24.],\n",
       "          [32., 40., 48.],\n",
       "          [56., 64., 72.]]]], requires_grad=True)"
      ]
     },
     "execution_count": 2,
     "metadata": {},
     "output_type": "execute_result"
    }
   ],
   "source": [
    "# create input data\n",
    "X = torch.arange(1,10, dtype=torch.float32).reshape(-1,3)\n",
    "X = torch.stack([X, 2*X]) # 2 channels\n",
    "X = torch.stack([X, 4*X]) # 2 batches\n",
    "X.requires_grad = True\n",
    "X"
   ]
  },
  {
   "cell_type": "code",
   "execution_count": 3,
   "metadata": {},
   "outputs": [
    {
     "data": {
      "text/plain": [
       "tensor([[[ 1.,  2.,  4.,  5.,  2.,  4.,  8., 10.],\n",
       "         [ 2.,  3.,  5.,  6.,  4.,  6., 10., 12.],\n",
       "         [ 4.,  5.,  7.,  8.,  8., 10., 14., 16.],\n",
       "         [ 5.,  6.,  8.,  9., 10., 12., 16., 18.]],\n",
       "\n",
       "        [[ 4.,  8., 16., 20.,  8., 16., 32., 40.],\n",
       "         [ 8., 12., 20., 24., 16., 24., 40., 48.],\n",
       "         [16., 20., 28., 32., 32., 40., 56., 64.],\n",
       "         [20., 24., 32., 36., 40., 48., 64., 72.]]])"
      ]
     },
     "execution_count": 3,
     "metadata": {},
     "output_type": "execute_result"
    }
   ],
   "source": [
    "# non vectorized unfolding\n",
    "# shape [b,p,k] as specified in the task, opposed to the torch.Unfold, that creates a [b,k,p] matrix\n",
    "\n",
    "batch_size = X.shape[0]\n",
    "n_channels = X.shape[1]\n",
    "h = X.shape[2]\n",
    "w = X.shape[3]\n",
    "\n",
    "def unfold(X, kernel_size, stride=1, padding=0):\n",
    "    batch_size,n_channels,h,w = X.shape\n",
    "    res = []\n",
    "    for b in range(batch_size):\n",
    "        cur_batch = []\n",
    "        for row_start in range(0-padding, h + padding - kernel_size[0] + 1, stride):\n",
    "            for col_start in range(0-padding, w + padding - kernel_size[1] + 1, stride):\n",
    "                cur_row = []\n",
    "                for ch in range(n_channels):\n",
    "                    for r in range(row_start, row_start+kernel_size[0]):\n",
    "                        for c in range(col_start, col_start+kernel_size[1]):\n",
    "                            if r < 0 or r >= h or c < 0 or c >= h:\n",
    "                                cur_row.append(0)\n",
    "                            else:\n",
    "                                cur_row.append(X[b,ch,r,c])\n",
    "                cur_batch.append(cur_row[:])\n",
    "        res.append(cur_batch[:])\n",
    "    return res\n",
    "\n",
    "\n",
    "out = unfold(X, kernel_size=(2,2), stride=1, padding=0)\n",
    "torch.tensor(out)\n",
    "    "
   ]
  },
  {
   "cell_type": "code",
   "execution_count": 4,
   "metadata": {},
   "outputs": [
    {
     "data": {
      "text/plain": [
       "tensor([[[ 1.,  2.,  4.,  5.],\n",
       "         [ 2.,  3.,  5.,  6.],\n",
       "         [ 4.,  5.,  7.,  8.],\n",
       "         [ 5.,  6.,  8.,  9.],\n",
       "         [ 2.,  4.,  8., 10.],\n",
       "         [ 4.,  6., 10., 12.],\n",
       "         [ 8., 10., 14., 16.],\n",
       "         [10., 12., 16., 18.]],\n",
       "\n",
       "        [[ 4.,  8., 16., 20.],\n",
       "         [ 8., 12., 20., 24.],\n",
       "         [16., 20., 28., 32.],\n",
       "         [20., 24., 32., 36.],\n",
       "         [ 8., 16., 32., 40.],\n",
       "         [16., 24., 40., 48.],\n",
       "         [32., 40., 56., 64.],\n",
       "         [40., 48., 64., 72.]]], grad_fn=<Im2ColBackward0>)"
      ]
     },
     "execution_count": 4,
     "metadata": {},
     "output_type": "execute_result"
    }
   ],
   "source": [
    "F.unfold(X, kernel_size=2)"
   ]
  },
  {
   "cell_type": "code",
   "execution_count": 5,
   "metadata": {},
   "outputs": [
    {
     "data": {
      "text/plain": [
       "tensor([[[[  3.,   9.,  15.,   9.],\n",
       "          [ 15.,  36.,  48.,  27.],\n",
       "          [ 33.,  72.,  84.,  45.],\n",
       "          [ 21.,  45.,  51.,  27.]]],\n",
       "\n",
       "\n",
       "        [[[ 12.,  36.,  60.,  36.],\n",
       "          [ 60., 144., 192., 108.],\n",
       "          [132., 288., 336., 180.],\n",
       "          [ 84., 180., 204., 108.]]]], grad_fn=<ReshapeAliasBackward0>)"
      ]
     },
     "execution_count": 5,
     "metadata": {},
     "output_type": "execute_result"
    }
   ],
   "source": [
    "class Conv2D(nn.Module):\n",
    "    def __init__(self, in_channels, out_channels, kernel_size=(3,3), stride=1, padding=1): \n",
    "        assert padding >= 0, \"negative padding is not supported\"\n",
    "        super(Conv2D, self).__init__()\n",
    "        self.weights = torch.ones(in_channels * kernel_size[0] * kernel_size[1], out_channels, requires_grad=True)\n",
    "        self.kernel_size = kernel_size\n",
    "        self.stride = stride\n",
    "        self.padding = padding\n",
    "        self.out_channels = out_channels\n",
    "    \n",
    "    def forward(self, input_batch):\n",
    "        b, c, h, w = input_batch.size()\n",
    "        \n",
    "        self.input = input_batch\n",
    "        self.input.requires_grad = True\n",
    "        assert h + 2*self.padding >= self.kernel_size[0], \\\n",
    "            f\"Calculated padded input size per channel: ({h+2*self.padding}x{w+2*self.padding}).\" \\\n",
    "            f\" Kernel size: ({self.kernel_size[0]} x {self.kernel_size[1]}).\" \\\n",
    "            f\" Kernel size can't be greater than actual input size\"\n",
    "        assert w + 2*self.padding >= self.kernel_size[1], \\\n",
    "            f\"Calculated padded input size per channel: ({h+2*self.padding}x{w+2*self.padding}).\" \\\n",
    "            f\" Kernel size: ({self.kernel_size[0]} x {self.kernel_size[1]}).\" \\\n",
    "            f\" Kernel size can't be greater than actual input size\"        \n",
    "        \n",
    "        X = F.unfold(input_batch, kernel_size=self.kernel_size, stride=self.stride, padding=self.padding)\n",
    "        X = torch.permute(X, (0,2,1)) # Transpose laset 2 dims\n",
    "        Y = torch.matmul(X, self.weights)\n",
    "        out_height = int((h+2*self.padding-self.kernel_size[0])/self.stride + 1)\n",
    "        return torch.permute(Y, dims=(0,2,1)).reshape(b, self.out_channels, out_height, -1)\n",
    "        \n",
    "\n",
    "conv = Conv2D(in_channels=2, out_channels=1, kernel_size=(2,2), padding=1, stride=1)\n",
    "input_batch = X.clone().detach().requires_grad_(True)\n",
    "output_batch = conv(input_batch)\n",
    "output_batch.backward(torch.ones(output_batch.shape))\n",
    "output_batch"
   ]
  },
  {
   "cell_type": "markdown",
   "metadata": {},
   "source": [
    "## Question 6"
   ]
  },
  {
   "cell_type": "code",
   "execution_count": 6,
   "metadata": {},
   "outputs": [
    {
     "data": {
      "text/plain": [
       "tensor([[[[  3.,   9.,  15.,   9.],\n",
       "          [ 15.,  36.,  48.,  27.],\n",
       "          [ 33.,  72.,  84.,  45.],\n",
       "          [ 21.,  45.,  51.,  27.]]],\n",
       "\n",
       "\n",
       "        [[[ 12.,  36.,  60.,  36.],\n",
       "          [ 60., 144., 192., 108.],\n",
       "          [132., 288., 336., 180.],\n",
       "          [ 84., 180., 204., 108.]]]], grad_fn=<Conv2DFuncBackward>)"
      ]
     },
     "execution_count": 6,
     "metadata": {},
     "output_type": "execute_result"
    }
   ],
   "source": [
    "class Conv2DFunc(torch.autograd.Function): \n",
    "    \"\"\"\n",
    "    We can implement our own custom autograd Functions by subclassing\n",
    "    torch.autograd.Function and implementing the forward and backward\n",
    "    passes which operate on Tensors.\n",
    "    \"\"\"\n",
    "    \n",
    "    @staticmethod\n",
    "    def forward(ctx, input_batch, kernel, stride=1, padding=1): \n",
    "        \"\"\"\n",
    "        In the forward pass we receive a Tensor containing the input\n",
    "        and return a Tensor containing the output. ctx is a context\n",
    "        object that can be used to stash information for backward\n",
    "        computation. You can cache arbitrary objects for use in the\n",
    "        backward pass using the ctx.save_for_backward method.\n",
    "        \"\"\"\n",
    "        \n",
    "        # your code here\n",
    "        h = input_batch.shape[2]\n",
    "        batch_size = input_batch.shape[0]\n",
    "        out_channels = kernel.shape[0]\n",
    "        kernel_size = kernel.shape[-2:]\n",
    "        \n",
    "        input_batch_folded = F.unfold(input_batch, kernel_size=kernel_size, stride=stride, padding=padding)\n",
    "        input_batch_folded = torch.permute(input_batch_folded, (0,2,1)) # Transpose laset 2 dims\n",
    "        weights = kernel.reshape(-1, kernel.shape[0])\n",
    "        Y = torch.matmul(input_batch_folded, weights)\n",
    "        \n",
    "        params = torch.tensor([stride, padding])\n",
    "        ctx.save_for_backward(input_batch, input_batch_folded, weights, torch.tensor(kernel.shape), params)\n",
    "        \n",
    "        \n",
    "        out_height = int((h+2*padding-kernel_size[0])/stride + 1)\n",
    "        return torch.permute(Y, dims=(0,2,1)).reshape(batch_size, out_channels, out_height, -1)\n",
    "\n",
    "    @staticmethod\n",
    "    def backward(ctx, grad_output): \n",
    "        \"\"\"\n",
    "        In the backward pass we receive a Tensor containing the\n",
    "        gradient of the loss with respect to the output, and we need\n",
    "        to compute the gradient of the loss with respect to the\n",
    "        input\n",
    "        \"\"\"\n",
    "        input_batch, input_batch_folded, weights, kernel_shape, params = ctx.saved_tensors \n",
    "        \n",
    "        stride, padding = int(params[0]), int(params[1])\n",
    "        ch_out, ch_in = kernel_shape[:2]\n",
    "        kernel_size = kernel_shape[2:]\n",
    "        b = grad_output.shape[0]\n",
    "        h,w = grad_output.shape[2:]\n",
    "        \n",
    "        grad_output = grad_output.reshape(b, h*w, -1) # [batch, h*w, out_ch]\n",
    "        input_batch_grad_unfolded = torch.matmul(grad_output, weights.T)\n",
    "        input_batch_T = torch.permute(input_batch_folded, (0,2,1))\n",
    "        weights_grad = torch.matmul(input_batch_T, grad_output).sum(axis=0)\n",
    "\n",
    "        input_batch_grad = F.fold(input_batch_grad_unfolded.permute(0,2,1), output_size=(input_batch.shape[2:]), \n",
    "                                  kernel_size=(kernel_size), stride=stride, padding=padding)\n",
    "        kernel_grad = weights_grad.reshape(list(kernel_shape))\n",
    "        \n",
    "        # The gradients of the inputs. For anything that doesn't have # a gradient (the stride and padding) you can\n",
    "        # return None.\n",
    "        return input_batch_grad, kernel_grad, None, None\n",
    "    \n",
    "    \n",
    "input_batch = X.clone().detach().requires_grad_(True)\n",
    "kernel = torch.ones(1,2,2,2, requires_grad=True) # [ch_out, ch_in, kernel_h, kernel_w]\n",
    "res = Conv2DFunc.apply(input_batch, kernel)\n",
    "res.backward(torch.ones(res.shape))\n",
    "res\n"
   ]
  },
  {
   "cell_type": "markdown",
   "metadata": {},
   "source": [
    "# Part 2"
   ]
  },
  {
   "cell_type": "markdown",
   "metadata": {},
   "source": [
    "## Question 7"
   ]
  },
  {
   "cell_type": "code",
   "execution_count": 7,
   "metadata": {},
   "outputs": [],
   "source": [
    "import torchvision\n",
    "from torchvision.transforms import ToTensor\n",
    "import torchvision.transforms as transforms\n",
    "import torch.optim as optim\n",
    "\n",
    "bs = 16\n",
    "\n",
    "train = torchvision.datasets.MNIST(root='.data/', train=True, download=True, transform=ToTensor()) \n",
    "train, val = torch.utils.data.random_split(train, (50000, 10000))\n",
    "test = torchvision.datasets.MNIST(root='.data/', train=False, download=True, transform=ToTensor())\n",
    "\n",
    "trainloader = torch.utils.data.DataLoader(train, batch_size=bs, shuffle=True, num_workers=2)\n",
    "valloader = torch.utils.data.DataLoader(val, batch_size=bs, shuffle=True, num_workers=2)\n",
    "testloader = torch.utils.data.DataLoader(test, batch_size=bs, shuffle=True, num_workers=2)"
   ]
  },
  {
   "cell_type": "code",
   "execution_count": 8,
   "metadata": {},
   "outputs": [],
   "source": [
    "class Net(nn.Module):\n",
    "    def __init__(self):\n",
    "        super().__init__()\n",
    "        self.conv1 = nn.Conv2d(in_channels=1, out_channels=16, kernel_size=3, padding=1)\n",
    "        self.pool = nn.MaxPool2d(2, 2)\n",
    "        self.conv2 = nn.Conv2d(in_channels=16, out_channels=32, kernel_size=3, padding=1)\n",
    "        self.conv3 = nn.Conv2d(in_channels=32, out_channels=64, kernel_size=3, padding=1)\n",
    "        self.fc1 = nn.Linear(64 * 3 * 3, 10)\n",
    "\n",
    "    def forward(self, x):\n",
    "        x = self.pool(F.relu(self.conv1(x)))\n",
    "        x = self.pool(F.relu(self.conv2(x)))\n",
    "        x = self.pool(F.relu(self.conv3(x)))\n",
    "        x = torch.flatten(x, 1) # flatten all dimensions except batch\n",
    "        x = self.fc1(x)\n",
    "        return x"
   ]
  },
  {
   "cell_type": "code",
   "execution_count": 193,
   "metadata": {},
   "outputs": [
    {
     "name": "stdout",
     "output_type": "stream",
     "text": [
      "Training...\n",
      "Epoch 1:  train loss: 0.141, val loss: 0.058\n",
      "Epoch 2:  train loss: 0.046, val loss: 0.048\n",
      "Epoch 3:  train loss: 0.034, val loss: 0.050\n",
      "Epoch 4:  train loss: 0.027, val loss: 0.037\n",
      "Epoch 5:  train loss: 0.022, val loss: 0.048\n",
      "Finished Training\n"
     ]
    }
   ],
   "source": [
    "def train_net(net, trainloader, valloader, epochs, criterion, optimizer):\n",
    "    train_loss_per_epoch = []\n",
    "    val_loss_per_epoch = []\n",
    "    print('Training...')\n",
    "    for epoch in range(epochs):  # loop over the dataset multiple times\n",
    "        # train\n",
    "        losses = []\n",
    "        for i, data in enumerate(trainloader, 0):\n",
    "            # get the inputs; data is a list of [inputs, labels]\n",
    "            inputs, labels = data\n",
    "\n",
    "            # zero the parameter gradients\n",
    "            optimizer.zero_grad()\n",
    "\n",
    "            # forward + backward + optimize\n",
    "            outputs = net(inputs)\n",
    "            loss = criterion(outputs, labels)\n",
    "            losses.append(loss.item())\n",
    "            loss.backward()\n",
    "            optimizer.step()\n",
    "\n",
    "        train_loss_per_epoch.append(sum(losses) / len(losses)) # avg train loss per epoch\n",
    "        \n",
    "        # val\n",
    "        losses = []\n",
    "        for i, data in enumerate(valloader, 0):\n",
    "            # get the inputs; data is a list of [inputs, labels]\n",
    "            inputs, labels = data\n",
    "            outputs = net(inputs)\n",
    "            loss = criterion(outputs, labels)\n",
    "            losses.append(loss.item())\n",
    "            \n",
    "        val_loss_per_epoch.append(sum(losses) / len(losses)) # avg train loss per epoch\n",
    "        print(f\"Epoch {epoch+1}:  train loss: {train_loss_per_epoch[-1]:.3f}, val loss: {val_loss_per_epoch[-1]:.3f}\")\n",
    "        \n",
    "    print('Finished Training')\n",
    "    return train_loss_per_epoch, val_loss_per_epoch\n",
    "\n",
    "net = Net()\n",
    "criterion = nn.CrossEntropyLoss()\n",
    "optimizer = optim.Adam(net.parameters())\n",
    "train_loss_q7, val_loss_q7 = train_net(net, trainloader, valloader, 5, criterion, optimizer)\n"
   ]
  },
  {
   "cell_type": "code",
   "execution_count": 194,
   "metadata": {},
   "outputs": [],
   "source": [
    "def plot_train_val_loss(train_loss, val_loss, question):\n",
    "    fig, ax = plt.subplots()\n",
    "    ax.xaxis.set_major_locator(MaxNLocator(integer=True))\n",
    "\n",
    "    ax.plot(range(1, len(train_loss)+1), train_loss, label = 'train loss')\n",
    "    ax.plot(range(1, len(val_loss)+1), val_loss, label = 'val loss')\n",
    "    ax.set_xlabel('Epoch')\n",
    "    ax.set_ylabel('Avg. Loss')\n",
    "    plt.xlim(1, len(train_loss))\n",
    "    plt.legend()\n",
    "    plt.savefig('Q' + str(question) + '.png')"
   ]
  },
  {
   "cell_type": "code",
   "execution_count": 195,
   "metadata": {},
   "outputs": [
    {
     "data": {
      "image/png": "[encoded data removed]",
      "text/plain": [
       "<Figure size 432x288 with 1 Axes>"
      ]
     },
     "metadata": {
      "needs_background": "light"
     },
     "output_type": "display_data"
    }
   ],
   "source": [
    "plot_train_val_loss(train_loss_q7, val_loss_q7, 7)"
   ]
  },
  {
   "cell_type": "code",
   "execution_count": 196,
   "metadata": {},
   "outputs": [
    {
     "name": "stdout",
     "output_type": "stream",
     "text": [
      "Accuracy of the network on the test images: 99.03 %\n"
     ]
    },
    {
     "data": {
      "text/plain": [
       "0.9903"
      ]
     },
     "execution_count": 196,
     "metadata": {},
     "output_type": "execute_result"
    }
   ],
   "source": [
    "def test_net(net, testloader):\n",
    "    correct = 0\n",
    "    total = 0\n",
    "    # since we're not training, we don't need to calculate the gradients for our outputs\n",
    "    with torch.no_grad():\n",
    "        for data in testloader:\n",
    "            images, labels = data\n",
    "            # calculate outputs by running images through the network\n",
    "            outputs = net(images)\n",
    "            # the class with the highest energy is what we choose as prediction\n",
    "            _, predicted = torch.max(outputs.data, 1)\n",
    "            total += labels.size(0)\n",
    "            correct += (predicted == labels).sum().item()\n",
    "\n",
    "    acc = correct / total\n",
    "    print(f'Accuracy of the network on the test images: {100 * acc} %')\n",
    "    return acc\n",
    "    \n",
    "test_net(net, testloader)"
   ]
  },
  {
   "cell_type": "markdown",
   "metadata": {},
   "source": [
    "## Question 8"
   ]
  },
  {
   "cell_type": "markdown",
   "metadata": {},
   "source": [
    "Network in Question 7 already produces 99% accuracy, no need to further optimise hyperparameters"
   ]
  },
  {
   "cell_type": "markdown",
   "metadata": {},
   "source": [
    "## Question 9"
   ]
  },
  {
   "cell_type": "code",
   "execution_count": 182,
   "metadata": {},
   "outputs": [],
   "source": [
    "train_transform = transforms.Compose(\n",
    "    [transforms.ToTensor(),\n",
    "     transforms.Normalize((0.5), (0.5)),\n",
    "#      torchvision.transforms.Compose([transforms.CenterCrop(24), transforms.Pad(padding=2)]),\n",
    "     transforms.RandomRotation(degrees=(-25, 25))\n",
    "    ])\n",
    "\n",
    "test_transform = transforms.Compose(\n",
    "    [transforms.ToTensor(),\n",
    "     transforms.Normalize((0.5), (0.5))\n",
    "    ])"
   ]
  },
  {
   "cell_type": "code",
   "execution_count": 183,
   "metadata": {},
   "outputs": [],
   "source": [
    "bs = 16\n",
    "\n",
    "train = torchvision.datasets.MNIST(root='.data/', train=True, download=True) \n",
    "train, val = torch.utils.data.random_split(train, (50000, 10000))\n",
    "train.dataset.transform = train_transform\n",
    "val.dataset.transform = test_transform\n",
    "test = torchvision.datasets.MNIST(root='.data/', train=False, download=True, transform=test_transform)\n",
    "\n",
    "trainloader = torch.utils.data.DataLoader(train, batch_size=bs, shuffle=True, num_workers=2)\n",
    "valloader = torch.utils.data.DataLoader(val, batch_size=bs, shuffle=True, num_workers=2)\n",
    "testloader = torch.utils.data.DataLoader(test, batch_size=bs, shuffle=True, num_workers=2)"
   ]
  },
  {
   "cell_type": "code",
   "execution_count": 184,
   "metadata": {},
   "outputs": [
    {
     "name": "stdout",
     "output_type": "stream",
     "text": [
      "Training...\n",
      "Epoch 1, train loss: 0.150, val loss: 0.055\n",
      "Epoch 2, train loss: 0.047, val loss: 0.051\n",
      "Epoch 3, train loss: 0.035, val loss: 0.047\n",
      "Epoch 4, train loss: 0.027, val loss: 0.050\n",
      "Epoch 5, train loss: 0.022, val loss: 0.036\n",
      "Finished Training\n",
      "Accuracy of the network on the test images: 99.00999999999999 %\n"
     ]
    },
    {
     "data": {
      "text/plain": [
       "0.9901"
      ]
     },
     "execution_count": 184,
     "metadata": {},
     "output_type": "execute_result"
    }
   ],
   "source": [
    "# Train\n",
    "net = Net()\n",
    "criterion = nn.CrossEntropyLoss()\n",
    "optimizer = optim.Adam(net.parameters())\n",
    "train_loss_q9, val_loss_q9 = train_net(net, trainloader, valloader, 5, criterion, optimizer)\n",
    "test_net(net, testloader)"
   ]
  },
  {
   "cell_type": "code",
   "execution_count": 192,
   "metadata": {},
   "outputs": [
    {
     "data": {
      "image/png": "[encoded data removed]",
      "text/plain": [
       "<Figure size 432x288 with 1 Axes>"
      ]
     },
     "metadata": {
      "needs_background": "light"
     },
     "output_type": "display_data"
    }
   ],
   "source": [
    "plot_train_val_loss(train_loss_q9, val_loss_q9, 9)"
   ]
  },
  {
   "cell_type": "code",
   "execution_count": null,
   "metadata": {},
   "outputs": [],
   "source": [
    "img, lbl = next(iter(trainloader))"
   ]
  },
  {
   "cell_type": "code",
   "execution_count": null,
   "metadata": {},
   "outputs": [],
   "source": [
    "plt.imshow(img[4].squeeze(0))"
   ]
  },
  {
   "cell_type": "code",
   "execution_count": null,
   "metadata": {},
   "outputs": [],
   "source": [
    "lbl[4]"
   ]
  },
  {
   "cell_type": "markdown",
   "metadata": {},
   "source": [
    "## Question 10"
   ]
  },
  {
   "cell_type": "code",
   "execution_count": null,
   "metadata": {},
   "outputs": [],
   "source": [
    "inp = torch.randn(1,3,768,1024)\n",
    "conv = nn.Conv2d(in_channels=3, out_channels=16, kernel_size=5, padding=1, stride=2)\n",
    "conv(inp).shape"
   ]
  },
  {
   "cell_type": "code",
   "execution_count": null,
   "metadata": {},
   "outputs": [],
   "source": [
    "inp = torch.randn(1,3,1080,1920)\n",
    "conv = nn.Conv2d(in_channels=3, out_channels=16, kernel_size=5, padding=1, stride=2)\n",
    "conv(inp).shape"
   ]
  },
  {
   "cell_type": "markdown",
   "metadata": {},
   "source": [
    "## Question 11"
   ]
  },
  {
   "cell_type": "code",
   "execution_count": 37,
   "metadata": {},
   "outputs": [],
   "source": [
    "max_pooled = X.amax(dim=(2,3))  # Global max pool\n",
    "mean_pooled = X.mean(dim=(2,3))  # Global mean pool"
   ]
  },
  {
   "cell_type": "markdown",
   "metadata": {},
   "source": [
    "## Question 12"
   ]
  },
  {
   "cell_type": "code",
   "execution_count": 38,
   "metadata": {},
   "outputs": [],
   "source": [
    "# download dataset\n",
    "import os\n",
    "import urllib\n",
    "import tarfile\n",
    "\n",
    "url = 'https://dlvu.github.io/data/mnist-varres.tgz'\n",
    "file = 'mnist-varres.tgz'\n",
    "if not os.path.isdir('mnist-varres'):\n",
    "    print(f'Downloading {url} and saving as {file}...')\n",
    "    urllib.request.urlretrieve(url, file)\n",
    "    \n",
    "    print('Unzipping images...')\n",
    "    with tarfile.open(file) as tar:\n",
    "        tar.extractall()\n",
    "    \n",
    "    os.remove(file)\n",
    "    print('Done!')"
   ]
  },
  {
   "cell_type": "code",
   "execution_count": 48,
   "metadata": {},
   "outputs": [],
   "source": [
    "from torchvision.datasets import ImageFolder\n",
    "\n",
    "transform = transforms.Compose([transforms.Resize(28),\n",
    "                                transforms.Grayscale(num_output_channels=1),\n",
    "                                transforms.ToTensor()\n",
    "                               ])\n",
    "\n",
    "\n",
    "train = ImageFolder(root='mnist-varres/train', transform=transform)\n",
    "train, val = torch.utils.data.random_split(train, (50000, 10000))\n",
    "test = ImageFolder(root='mnist-varres/test', transform=transform)\n",
    "\n",
    "trainloader = torch.utils.data.DataLoader(train, batch_size=bs, shuffle=True, num_workers=2)\n",
    "valloader = torch.utils.data.DataLoader(val, batch_size=bs, shuffle=True, num_workers=2)\n",
    "testloader = torch.utils.data.DataLoader(test, batch_size=bs, shuffle=True, num_workers=2)"
   ]
  },
  {
   "cell_type": "code",
   "execution_count": 54,
   "metadata": {},
   "outputs": [],
   "source": [
    "t = transforms.Resize(28)"
   ]
  },
  {
   "cell_type": "code",
   "execution_count": 55,
   "metadata": {},
   "outputs": [
    {
     "data": {
      "image/png": "[encoded data removed]",
      "text/plain": [
       "<Figure size 432x288 with 1 Axes>"
      ]
     },
     "metadata": {
      "needs_background": "light"
     },
     "output_type": "display_data"
    }
   ],
   "source": [
    "plt.imshow(t(torch.tensor(np.expand_dims(plt.imread(train.dataset.imgs[0][0]), (0,1))))[0,0])\n",
    "plt.savefig('digit0_64_resized')"
   ]
  },
  {
   "cell_type": "code",
   "execution_count": 56,
   "metadata": {},
   "outputs": [
    {
     "data": {
      "image/png": "[encoded data removed]",
      "text/plain": [
       "<Figure size 432x288 with 1 Axes>"
      ]
     },
     "metadata": {
      "needs_background": "light"
     },
     "output_type": "display_data"
    }
   ],
   "source": [
    "plt.imshow(t(torch.tensor(np.expand_dims(plt.imread(train.dataset.imgs[3][0]), (0,1))))[0,0])\n",
    "plt.savefig('digit0_32_resized')"
   ]
  },
  {
   "cell_type": "code",
   "execution_count": 57,
   "metadata": {},
   "outputs": [
    {
     "name": "stdout",
     "output_type": "stream",
     "text": [
      "Training...\n",
      "Epoch 1, train loss: 0.597, val loss: 0.285\n",
      "Epoch 2, train loss: 0.228, val loss: 0.196\n",
      "Epoch 3, train loss: 0.156, val loss: 0.151\n",
      "Epoch 4, train loss: 0.119, val loss: 0.142\n",
      "Epoch 5, train loss: 0.095, val loss: 0.110\n",
      "Finished Training\n",
      "Accuracy of the network on the test images: 97.13000000000001 %\n"
     ]
    },
    {
     "data": {
      "text/plain": [
       "0.9713"
      ]
     },
     "execution_count": 57,
     "metadata": {},
     "output_type": "execute_result"
    }
   ],
   "source": [
    "# Train\n",
    "net = Net()\n",
    "criterion = nn.CrossEntropyLoss()\n",
    "optimizer = optim.Adam(net.parameters())\n",
    "train_loss_q12, val_loss_q12 = train_net(net, trainloader, valloader, 5, criterion, optimizer)\n",
    "test_net(net, testloader)"
   ]
  },
  {
   "cell_type": "code",
   "execution_count": 58,
   "metadata": {},
   "outputs": [
    {
     "data": {
      "image/png": "[encoded data removed]",
      "text/plain": [
       "<Figure size 432x288 with 1 Axes>"
      ]
     },
     "metadata": {
      "needs_background": "light"
     },
     "output_type": "display_data"
    }
   ],
   "source": [
    "plot_train_val_loss(train_loss_q12, val_loss_q12, 12)"
   ]
  },
  {
   "cell_type": "markdown",
   "metadata": {},
   "source": [
    "## Question 13"
   ]
  },
  {
   "cell_type": "code",
   "execution_count": 59,
   "metadata": {},
   "outputs": [],
   "source": [
    "def create_dataloaders_per_res(dataset):\n",
    "    # create dict {size: (path, label)}\n",
    "    img_size_to_path = defaultdict(list)\n",
    "    for path, label in dataset.imgs:\n",
    "        size = plt.imread(path).shape[-1] \n",
    "        img_size_to_path[size].append((path, label))\n",
    "        \n",
    "    # create dict {size: separate pytorch Dataset}\n",
    "    dataset_per_res = {}\n",
    "    for size in img_size_to_path:\n",
    "        dataset_per_res[size] = copy.deepcopy(train)\n",
    "        dataset_per_res[size].imgs = img_size_to_path[size]\n",
    "        dataset_per_res[size].samples = img_size_to_path[size]\n",
    "        \n",
    "    # create dict {size: pytorch Dataloader}\n",
    "    dataloaders = {}\n",
    "    for size in dataset_per_res:\n",
    "        dataloaders[size] = torch.utils.data.DataLoader(dataset_per_res[size], batch_size=bs, shuffle=True, num_workers=2)\n",
    "    \n",
    "    return dataloaders"
   ]
  },
  {
   "cell_type": "code",
   "execution_count": 265,
   "metadata": {},
   "outputs": [],
   "source": [
    "# separate dataloader for every resolution\n",
    "\n",
    "from collections import defaultdict\n",
    "import copy\n",
    "\n",
    "\n",
    "transform = transforms.Compose([transforms.Grayscale(num_output_channels=1),\n",
    "                                transforms.ToTensor()\n",
    "                               ])\n",
    "\n",
    "# load all images as pytorch Dataset\n",
    "train = ImageFolder(root='mnist-varres/train', transform=transform)\n",
    "train_subset, val_subset = torch.utils.data.random_split(train, (50000, 10000))\n",
    "train_subset.imgs = [train.imgs[i] for i in train_subset.indices]\n",
    "train_subset.samples = [train.samples[i] for i in train_subset.indices]\n",
    "val_subset.imgs = [train.imgs[i] for i in val_subset.indices]\n",
    "val_subset.samples = [train.samples[i] for i in val_subset.indices]\n",
    "\n",
    "test = ImageFolder(root='mnist-varres/test', transform=transform)\n",
    "\n",
    "trainloaders = create_dataloaders_per_res(train_subset)\n",
    "valloaders = create_dataloaders_per_res(val_subset)\n",
    "testloaders = create_dataloaders_per_res(test)"
   ]
  },
  {
   "cell_type": "code",
   "execution_count": 266,
   "metadata": {},
   "outputs": [],
   "source": [
    "# load images to 3 tensor (separate per image size)\n",
    "\n",
    "# from collections import defaultdict\n",
    "# import copy\n",
    "\n",
    "# # load all images as pytorch Dataset\n",
    "# train = ImageFolder(root='mnist-varres/train', transform=transform)\n",
    "# test = ImageFolder(root='mnist-varres/test', transform=transform)\n",
    "\n",
    "# # create dict {size: (path, label)}\n",
    "# img_train_per_res = [[] for _ in range(3)]\n",
    "# img_test_per_res = [[] for _ in range(3)]\n",
    "# label_train_per_res = [[] for _ in range(3)]\n",
    "# label_test_per_res = [[] for _ in range(3)]\n",
    "\n",
    "\n",
    "# for path, label in train.imgs:\n",
    "#     img = plt.imread(path)\n",
    "#     size = img.shape[-1]\n",
    "#     if size == 32:\n",
    "#         img_train_per_res[0].append(torch.tensor(img))\n",
    "#         label_train_per_res[0].append(label)\n",
    "#     elif size == 48:\n",
    "#         img_train_per_res[1].append(torch.tensor(img))\n",
    "#         label_train_per_res[1].append(label)\n",
    "#     else:\n",
    "#         img_train_per_res[2].append(torch.tensor(img))\n",
    "#         label_train_per_res[2].append(label)\n",
    "        \n",
    "        \n",
    "# for path, label in test.imgs:\n",
    "#     img = plt.imread(path)\n",
    "#     size = img.shape[-1]\n",
    "#     if size == 32:\n",
    "#         img_test_per_res[0].append(torch.tensor(img))\n",
    "#         label_test_per_res[0].append(label)\n",
    "#     elif size == 48:\n",
    "#         img_test_per_res[1].append(torch.tensor(img))\n",
    "#         label_test_per_res[1].append(label)\n",
    "#     else:\n",
    "#         img_test_per_res[2].append(torch.tensor(img))\n",
    "#         label_test_per_res[2].append(label)"
   ]
  },
  {
   "cell_type": "markdown",
   "metadata": {},
   "source": [
    "## Question 14"
   ]
  },
  {
   "cell_type": "code",
   "execution_count": 267,
   "metadata": {},
   "outputs": [],
   "source": [
    "N = 64\n",
    "global_pooling = torch.amax\n",
    "\n",
    "class Net_varres(nn.Module):\n",
    "    def __init__(self):\n",
    "        super().__init__()\n",
    "        self.conv1 = nn.Conv2d(in_channels=1, out_channels=16, kernel_size=3, padding=1)\n",
    "        self.pool = nn.MaxPool2d(2, 2)\n",
    "        self.conv2 = nn.Conv2d(in_channels=16, out_channels=32, kernel_size=3, padding=1)\n",
    "        self.conv3 = nn.Conv2d(in_channels=32, out_channels=N, kernel_size=3, padding=1)\n",
    "        self.fc1 = nn.Linear(N, 10)\n",
    "\n",
    "    def forward(self, x):\n",
    "        x = self.pool(F.relu(self.conv1(x)))\n",
    "        x = self.pool(F.relu(self.conv2(x)))\n",
    "        x = self.pool(F.relu(self.conv3(x)))\n",
    "        x = global_pooling(x, dim=(-1,-2))\n",
    "        x = torch.flatten(x, 1) # flatten all dimensions except batch\n",
    "        x = self.fc1(x)\n",
    "        return x"
   ]
  },
  {
   "cell_type": "code",
   "execution_count": 268,
   "metadata": {},
   "outputs": [],
   "source": [
    "def train_varres(net, trainloaders, valloaders, epochs, criterion, optimizer):\n",
    "    train_loss_per_epoch = []\n",
    "    val_loss_per_epoch = []\n",
    "    print('Training...')\n",
    "    for epoch in range(epochs):  # loop over the dataset multiple times\n",
    "        # train\n",
    "        losses = []\n",
    "        for size, trainloader in trainloaders.items():\n",
    "            for i, data in enumerate(trainloader, 0):\n",
    "                # get the inputs; data is a list of [inputs, labels]\n",
    "                inputs, labels = data\n",
    "\n",
    "                # zero the parameter gradients\n",
    "                optimizer.zero_grad()\n",
    "\n",
    "                # forward + backward + optimize\n",
    "                outputs = net(inputs)\n",
    "                loss = criterion(outputs, labels)\n",
    "                losses.append(loss.item())\n",
    "                loss.backward()\n",
    "                optimizer.step()\n",
    "        \n",
    "        train_loss_per_epoch.append(sum(losses) / len(losses)) # avg train loss per epoch\n",
    "        \n",
    "        # val\n",
    "        losses = []\n",
    "        for size, valloader in valloaders.items():\n",
    "            for i, data in enumerate(valloader, 0):\n",
    "                # get the inputs; data is a list of [inputs, labels]\n",
    "                inputs, labels = data\n",
    "\n",
    "                outputs = net(inputs)\n",
    "                loss = criterion(outputs, labels)\n",
    "                losses.append(loss.item())\n",
    "                \n",
    "        val_loss_per_epoch.append(sum(losses) / len(losses)) # avg train loss per epoch\n",
    "        print(f\"Epoch {epoch+1}:  train loss: {train_loss_per_epoch[-1]:.3f}, val loss: {val_loss_per_epoch[-1]:.3f}\")\n",
    "    \n",
    "    print('Finished Training')\n",
    "    return train_loss_per_epoch, val_loss_per_epoch"
   ]
  },
  {
   "cell_type": "code",
   "execution_count": 269,
   "metadata": {},
   "outputs": [],
   "source": [
    "def test_varres(net, testloaders):\n",
    "    correct = 0\n",
    "    total = 0\n",
    "    # since we're not training, we don't need to calculate the gradients for our outputs\n",
    "    with torch.no_grad():\n",
    "        for size, testloader in testloaders.items():\n",
    "            for data in testloader:\n",
    "                images, labels = data\n",
    "                # calculate outputs by running images through the network\n",
    "                outputs = net(images)\n",
    "                # the class with the highest energy is what we choose as prediction\n",
    "                _, predicted = torch.max(outputs.data, 1)\n",
    "                total += labels.size(0)\n",
    "                correct += (predicted == labels).sum().item()\n",
    "\n",
    "    acc = correct / total\n",
    "    print(f'Accuracy of the network on the test images: {100 * acc:.3f} %')\n",
    "    return acc"
   ]
  },
  {
   "cell_type": "code",
   "execution_count": 270,
   "metadata": {},
   "outputs": [
    {
     "name": "stdout",
     "output_type": "stream",
     "text": [
      "Training...\n",
      "Epoch 1:  train loss: 0.268, val loss: 0.108\n",
      "Epoch 2:  train loss: 0.082, val loss: 0.056\n",
      "Epoch 3:  train loss: 0.059, val loss: 0.048\n",
      "Epoch 4:  train loss: 0.049, val loss: 0.044\n",
      "Epoch 5:  train loss: 0.038, val loss: 0.058\n",
      "Finished Training\n"
     ]
    }
   ],
   "source": [
    "# Train\n",
    "net_varres = Net_varres()\n",
    "criterion = nn.CrossEntropyLoss()\n",
    "optimizer = optim.Adam(net_varres.parameters())\n",
    "train_loss_q14, val_loss_q14 = train_varres(net_varres, trainloaders, valloaders, 5, criterion, optimizer)"
   ]
  },
  {
   "cell_type": "code",
   "execution_count": 271,
   "metadata": {},
   "outputs": [
    {
     "data": {
      "image/png": "[encoded data removed]",
      "text/plain": [
       "<Figure size 432x288 with 1 Axes>"
      ]
     },
     "metadata": {
      "needs_background": "light"
     },
     "output_type": "display_data"
    }
   ],
   "source": [
    "plot_train_val_loss(train_loss_q14, val_loss_q14, 14)"
   ]
  },
  {
   "cell_type": "code",
   "execution_count": 272,
   "metadata": {},
   "outputs": [
    {
     "name": "stdout",
     "output_type": "stream",
     "text": [
      "Accuracy of the network on the test images: 97.900 %\n"
     ]
    },
    {
     "data": {
      "text/plain": [
       "0.979"
      ]
     },
     "execution_count": 272,
     "metadata": {},
     "output_type": "execute_result"
    }
   ],
   "source": [
    "test_varres(net_varres, testloaders)"
   ]
  },
  {
   "cell_type": "markdown",
   "metadata": {},
   "source": [
    "## Question 15\n"
   ]
  },
  {
   "cell_type": "code",
   "execution_count": null,
   "metadata": {},
   "outputs": [],
   "source": [
    "# Number of weights\n",
    "# conv1 1x3x3x16 + 16 = 160\n",
    "# conv2 16x3x3x32 + 32 = 4640\n",
    "# conv3 32x3x3x64 + 64 = 18496\n",
    "# fc1 643x3x10 + 10 = 5770\n",
    "# SUM = 29066\n",
    "\n",
    "\n",
    "# Number of weights varres\n",
    "# conv1 1x3x3x16 + 16 = 160\n",
    "# conv2 16x3x3x32 + 32 = 4640\n",
    "# conv3 32x3x3xN + N = 289N\n",
    "# fc1 10xN + 10 = 11N\n",
    "\n",
    "# N = (29066 - 160 - 4640) / 300 = 80.89 "
   ]
  },
  {
   "cell_type": "code",
   "execution_count": 273,
   "metadata": {},
   "outputs": [],
   "source": [
    "N = 81"
   ]
  },
  {
   "cell_type": "code",
   "execution_count": 274,
   "metadata": {},
   "outputs": [
    {
     "data": {
      "text/plain": [
       "29029"
      ]
     },
     "execution_count": 274,
     "metadata": {},
     "output_type": "execute_result"
    }
   ],
   "source": [
    "net_varres = Net_varres()\n",
    "s = 0\n",
    "for param in net_varres.parameters():\n",
    "    s += (np.prod(param.shape))\n",
    "s"
   ]
  },
  {
   "cell_type": "code",
   "execution_count": null,
   "metadata": {},
   "outputs": [],
   "source": []
  },
  {
   "cell_type": "markdown",
   "metadata": {},
   "source": [
    "## Question 16"
   ]
  },
  {
   "cell_type": "code",
   "execution_count": 275,
   "metadata": {},
   "outputs": [
    {
     "name": "stdout",
     "output_type": "stream",
     "text": [
      "Training...\n",
      "Epoch 1:  train loss: 0.262, val loss: 0.084\n",
      "Epoch 2:  train loss: 0.078, val loss: 0.077\n",
      "Epoch 3:  train loss: 0.055, val loss: 0.054\n",
      "Epoch 4:  train loss: 0.044, val loss: 0.052\n",
      "Epoch 5:  train loss: 0.035, val loss: 0.049\n",
      "Finished Training\n",
      "Accuracy of the network on the test images: 98.740 %\n"
     ]
    },
    {
     "data": {
      "text/plain": [
       "0.9874"
      ]
     },
     "execution_count": 275,
     "metadata": {},
     "output_type": "execute_result"
    },
    {
     "data": {
      "image/png": "[encoded data removed]",
      "text/plain": [
       "<Figure size 432x288 with 1 Axes>"
      ]
     },
     "metadata": {
      "needs_background": "light"
     },
     "output_type": "display_data"
    }
   ],
   "source": [
    "global_pooling = torch.amax\n",
    "\n",
    "net_varres = Net_varres()\n",
    "criterion = nn.CrossEntropyLoss()\n",
    "optimizer = optim.Adam(net_varres.parameters())\n",
    "train_loss_q16_max, val_loss_q16_max = train_varres(net_varres, trainloaders, valloaders, 5, criterion, optimizer)\n",
    "plot_train_val_loss(train_loss_q16_max, val_loss_q16_max, 16.1)\n",
    "test_varres(net_varres, testloaders)"
   ]
  },
  {
   "cell_type": "code",
   "execution_count": 282,
   "metadata": {},
   "outputs": [
    {
     "name": "stdout",
     "output_type": "stream",
     "text": [
      "Training...\n",
      "Epoch 1:  train loss: 0.580, val loss: 0.290\n",
      "Epoch 2:  train loss: 0.208, val loss: 0.212\n",
      "Epoch 3:  train loss: 0.152, val loss: 0.153\n",
      "Epoch 4:  train loss: 0.116, val loss: 0.128\n",
      "Epoch 5:  train loss: 0.097, val loss: 0.098\n",
      "Finished Training\n",
      "Accuracy of the network on the test images: 97.950 %\n"
     ]
    },
    {
     "data": {
      "text/plain": [
       "0.9795"
      ]
     },
     "execution_count": 282,
     "metadata": {},
     "output_type": "execute_result"
    },
    {
     "data": {
      "image/png": "[encoded data removed]",
      "text/plain": [
       "<Figure size 432x288 with 1 Axes>"
      ]
     },
     "metadata": {
      "needs_background": "light"
     },
     "output_type": "display_data"
    },
    {
     "name": "stderr",
     "output_type": "stream",
     "text": [
      "Exception ignored in: <function _MultiProcessingDataLoaderIter.__del__ at 0x7fe7ca5c5dc0>\n",
      "Traceback (most recent call last):\n",
      "  File \"/Users/agoston/opt/anaconda3/lib/python3.8/site-packages/torch/utils/data/dataloader.py\", line 1466, in __del__\n",
      "    self._shutdown_workers()\n",
      "  File \"/Users/agoston/opt/anaconda3/lib/python3.8/site-packages/torch/utils/data/dataloader.py\", line 1424, in _shutdown_workers\n",
      "    if self._persistent_workers or self._workers_status[worker_id]:\n",
      "AttributeError: '_MultiProcessingDataLoaderIter' object has no attribute '_workers_status'\n"
     ]
    }
   ],
   "source": [
    "global_pooling = torch.mean\n",
    "\n",
    "net_varres = Net_varres()\n",
    "criterion = nn.CrossEntropyLoss()\n",
    "optimizer = optim.Adam(net_varres.parameters())\n",
    "accuracies_mean = []\n",
    "\n",
    "train_loss_q16_mean, val_loss_q16_mean = train_varres(net_varres, trainloaders, valloaders, 5, criterion, optimizer)\n",
    "plot_train_val_loss(train_loss_q16_mean, val_loss_q16_mean, 16.2)\n",
    "test_varres(net_varres, testloaders)"
   ]
  },
  {
   "cell_type": "code",
   "execution_count": 283,
   "metadata": {},
   "outputs": [],
   "source": [
    "# Max pooling performed better, thus\n",
    "global_pooling = torch.amax"
   ]
  },
  {
   "cell_type": "markdown",
   "metadata": {},
   "source": [
    "## Question 17"
   ]
  },
  {
   "cell_type": "code",
   "execution_count": 284,
   "metadata": {},
   "outputs": [
    {
     "name": "stdout",
     "output_type": "stream",
     "text": [
      "Training...\n",
      "Epoch 1:  train loss: 0.667, val loss: 0.365\n",
      "Epoch 2:  train loss: 0.266, val loss: 0.340\n",
      "Epoch 3:  train loss: 0.187, val loss: 0.205\n",
      "Epoch 4:  train loss: 0.149, val loss: 0.176\n",
      "Epoch 5:  train loss: 0.122, val loss: 0.140\n",
      "Finished Training\n",
      "Accuracy of the network on the test images: 96.24000000000001 %\n"
     ]
    },
    {
     "data": {
      "text/plain": [
       "0.9624"
      ]
     },
     "execution_count": 284,
     "metadata": {},
     "output_type": "execute_result"
    },
    {
     "data": {
      "image/png": "[encoded data removed]",
      "text/plain": [
       "<Figure size 432x288 with 1 Axes>"
      ]
     },
     "metadata": {
      "needs_background": "light"
     },
     "output_type": "display_data"
    }
   ],
   "source": [
    "# resize to same size (from Question 12)\n",
    "transform = transforms.Compose([transforms.Resize(28),\n",
    "                                transforms.Grayscale(num_output_channels=1),\n",
    "                                transforms.ToTensor()\n",
    "                               ])\n",
    "\n",
    "\n",
    "train = ImageFolder(root='mnist-varres/train', transform=transform)\n",
    "train, val = torch.utils.data.random_split(train, (50000, 10000))\n",
    "test = ImageFolder(root='mnist-varres/test', transform=transform)\n",
    "\n",
    "bs = 16\n",
    "trainloader = torch.utils.data.DataLoader(train, batch_size=bs, shuffle=True, num_workers=2)\n",
    "valloader = torch.utils.data.DataLoader(val, batch_size=bs, shuffle=True, num_workers=2)\n",
    "testloader = torch.utils.data.DataLoader(test, batch_size=bs, shuffle=True, num_workers=2)\n",
    "\n",
    "\n",
    "net = Net()\n",
    "criterion = nn.CrossEntropyLoss()\n",
    "optimizer = optim.Adam(net.parameters())\n",
    "\n",
    "train_loss_q17, val_loss_q17 = train_net(net, trainloader, valloader, 5, criterion, optimizer)\n",
    "plot_train_val_loss(train_loss_q17, val_loss_q17, 17.1)\n",
    "test_net(net, testloader)"
   ]
  },
  {
   "cell_type": "code",
   "execution_count": 285,
   "metadata": {},
   "outputs": [
    {
     "name": "stdout",
     "output_type": "stream",
     "text": [
      "Training...\n",
      "Epoch 1:  train loss: 0.280, val loss: 0.108\n",
      "Epoch 2:  train loss: 0.082, val loss: 0.070\n",
      "Epoch 3:  train loss: 0.060, val loss: 0.055\n",
      "Epoch 4:  train loss: 0.048, val loss: 0.058\n",
      "Epoch 5:  train loss: 0.038, val loss: 0.049\n",
      "Finished Training\n",
      "Accuracy of the network on the test images: 98.720 %\n"
     ]
    },
    {
     "data": {
      "text/plain": [
       "0.9872"
      ]
     },
     "execution_count": 285,
     "metadata": {},
     "output_type": "execute_result"
    },
    {
     "data": {
      "image/png": "[encoded data removed]",
      "text/plain": [
       "<Figure size 432x288 with 1 Axes>"
      ]
     },
     "metadata": {
      "needs_background": "light"
     },
     "output_type": "display_data"
    }
   ],
   "source": [
    "# var res net\n",
    "\n",
    "net_varres = Net_varres()\n",
    "criterion = nn.CrossEntropyLoss()\n",
    "optimizer = optim.Adam(net_varres.parameters())\n",
    "train_loss_q17_varres, val_loss_q17_varres = train_varres(net_varres, trainloaders, valloaders, 5, criterion, optimizer)\n",
    "plot_train_val_loss(train_loss_q17_varres, val_loss_q17_varres, 17.2)\n",
    "test_varres(net_varres, testloaders)"
   ]
  },
  {
   "cell_type": "code",
   "execution_count": null,
   "metadata": {},
   "outputs": [],
   "source": []
  }
 ],
 "metadata": {
  "kernelspec": {
   "display_name": "Python 3",
   "language": "python",
   "name": "python3"
  },
  "language_info": {
   "codemirror_mode": {
    "name": "ipython",
    "version": 3
   },
   "file_extension": ".py",
   "mimetype": "text/x-python",
   "name": "python",
   "nbconvert_exporter": "python",
   "pygments_lexer": "ipython3",
   "version": "3.8.8"
  }
 },
 "nbformat": 4,
 "nbformat_minor": 1
}
